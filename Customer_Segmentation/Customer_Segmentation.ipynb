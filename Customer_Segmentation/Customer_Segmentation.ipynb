{
 "cells": [
  {
   "cell_type": "markdown",
   "metadata": {},
   "source": [
    "# Customer Segmentation - An application of K-Means clustering and RFM evaluation. \n",
    "In this notebook, I applied the RFM method to analysing customer value. \n",
    "\n",
    "The RFM method encapsulates three aspects of customer behaviour: \n",
    "* Recency – How recently did the customer purchase?\n",
    "* Frequency – How often do they purchase?\n",
    "* Monetary Value – How much do they spend?\n",
    "\n",
    "I applied this to the \"Online Retail\" dataset found on kaggle: https://www.kaggle.com/vijayuv/onlineretail\n",
    "\n",
    "To split the customers into different groupings based on their value in each aspect of RFM, I employed K-Means clustering. The clusters where then ranked in terms of how valuable they were (with 0 being the lowest and 4 being the highest). This allowed a total score, the sum of the customers cluster value in each RFM aspect, to be calculated. This gave an overall value rating for each customer which would allow for targeted advertising for the businesses involved. "
   ]
  },
  {
   "cell_type": "markdown",
   "metadata": {},
   "source": [
    "#### Imports"
   ]
  },
  {
   "cell_type": "code",
   "execution_count": 1,
   "metadata": {},
   "outputs": [],
   "source": [
    "import numpy as np\n",
    "import seaborn as sns\n",
    "import matplotlib.pyplot as plt\n",
    "import pandas as pd"
   ]
  },
  {
   "cell_type": "markdown",
   "metadata": {},
   "source": [
    "#### Cleaning and manipulating the data"
   ]
  },
  {
   "cell_type": "code",
   "execution_count": 2,
   "metadata": {},
   "outputs": [],
   "source": [
    "df = pd.read_csv(\"OnlineRetail.csv\", encoding=\"cp1252\")"
   ]
  },
  {
   "cell_type": "code",
   "execution_count": 3,
   "metadata": {
    "scrolled": true
   },
   "outputs": [
    {
     "data": {
      "text/html": [
       "<div>\n",
       "<style scoped>\n",
       "    .dataframe tbody tr th:only-of-type {\n",
       "        vertical-align: middle;\n",
       "    }\n",
       "\n",
       "    .dataframe tbody tr th {\n",
       "        vertical-align: top;\n",
       "    }\n",
       "\n",
       "    .dataframe thead th {\n",
       "        text-align: right;\n",
       "    }\n",
       "</style>\n",
       "<table border=\"1\" class=\"dataframe\">\n",
       "  <thead>\n",
       "    <tr style=\"text-align: right;\">\n",
       "      <th></th>\n",
       "      <th>InvoiceNo</th>\n",
       "      <th>StockCode</th>\n",
       "      <th>Description</th>\n",
       "      <th>Quantity</th>\n",
       "      <th>InvoiceDate</th>\n",
       "      <th>UnitPrice</th>\n",
       "      <th>CustomerID</th>\n",
       "      <th>Country</th>\n",
       "    </tr>\n",
       "  </thead>\n",
       "  <tbody>\n",
       "    <tr>\n",
       "      <th>0</th>\n",
       "      <td>536365</td>\n",
       "      <td>85123A</td>\n",
       "      <td>WHITE HANGING HEART T-LIGHT HOLDER</td>\n",
       "      <td>6</td>\n",
       "      <td>12/1/2010 8:26</td>\n",
       "      <td>2.55</td>\n",
       "      <td>17850.0</td>\n",
       "      <td>United Kingdom</td>\n",
       "    </tr>\n",
       "    <tr>\n",
       "      <th>1</th>\n",
       "      <td>536365</td>\n",
       "      <td>71053</td>\n",
       "      <td>WHITE METAL LANTERN</td>\n",
       "      <td>6</td>\n",
       "      <td>12/1/2010 8:26</td>\n",
       "      <td>3.39</td>\n",
       "      <td>17850.0</td>\n",
       "      <td>United Kingdom</td>\n",
       "    </tr>\n",
       "    <tr>\n",
       "      <th>2</th>\n",
       "      <td>536365</td>\n",
       "      <td>84406B</td>\n",
       "      <td>CREAM CUPID HEARTS COAT HANGER</td>\n",
       "      <td>8</td>\n",
       "      <td>12/1/2010 8:26</td>\n",
       "      <td>2.75</td>\n",
       "      <td>17850.0</td>\n",
       "      <td>United Kingdom</td>\n",
       "    </tr>\n",
       "    <tr>\n",
       "      <th>3</th>\n",
       "      <td>536365</td>\n",
       "      <td>84029G</td>\n",
       "      <td>KNITTED UNION FLAG HOT WATER BOTTLE</td>\n",
       "      <td>6</td>\n",
       "      <td>12/1/2010 8:26</td>\n",
       "      <td>3.39</td>\n",
       "      <td>17850.0</td>\n",
       "      <td>United Kingdom</td>\n",
       "    </tr>\n",
       "    <tr>\n",
       "      <th>4</th>\n",
       "      <td>536365</td>\n",
       "      <td>84029E</td>\n",
       "      <td>RED WOOLLY HOTTIE WHITE HEART.</td>\n",
       "      <td>6</td>\n",
       "      <td>12/1/2010 8:26</td>\n",
       "      <td>3.39</td>\n",
       "      <td>17850.0</td>\n",
       "      <td>United Kingdom</td>\n",
       "    </tr>\n",
       "  </tbody>\n",
       "</table>\n",
       "</div>"
      ],
      "text/plain": [
       "  InvoiceNo StockCode                          Description  Quantity  \\\n",
       "0    536365    85123A   WHITE HANGING HEART T-LIGHT HOLDER         6   \n",
       "1    536365     71053                  WHITE METAL LANTERN         6   \n",
       "2    536365    84406B       CREAM CUPID HEARTS COAT HANGER         8   \n",
       "3    536365    84029G  KNITTED UNION FLAG HOT WATER BOTTLE         6   \n",
       "4    536365    84029E       RED WOOLLY HOTTIE WHITE HEART.         6   \n",
       "\n",
       "      InvoiceDate  UnitPrice  CustomerID         Country  \n",
       "0  12/1/2010 8:26       2.55     17850.0  United Kingdom  \n",
       "1  12/1/2010 8:26       3.39     17850.0  United Kingdom  \n",
       "2  12/1/2010 8:26       2.75     17850.0  United Kingdom  \n",
       "3  12/1/2010 8:26       3.39     17850.0  United Kingdom  \n",
       "4  12/1/2010 8:26       3.39     17850.0  United Kingdom  "
      ]
     },
     "execution_count": 3,
     "metadata": {},
     "output_type": "execute_result"
    }
   ],
   "source": [
    "df.head()"
   ]
  },
  {
   "cell_type": "code",
   "execution_count": 4,
   "metadata": {
    "scrolled": true
   },
   "outputs": [
    {
     "data": {
      "text/html": [
       "<div>\n",
       "<style scoped>\n",
       "    .dataframe tbody tr th:only-of-type {\n",
       "        vertical-align: middle;\n",
       "    }\n",
       "\n",
       "    .dataframe tbody tr th {\n",
       "        vertical-align: top;\n",
       "    }\n",
       "\n",
       "    .dataframe thead th {\n",
       "        text-align: right;\n",
       "    }\n",
       "</style>\n",
       "<table border=\"1\" class=\"dataframe\">\n",
       "  <thead>\n",
       "    <tr style=\"text-align: right;\">\n",
       "      <th></th>\n",
       "      <th>Quantity</th>\n",
       "      <th>UnitPrice</th>\n",
       "      <th>CustomerID</th>\n",
       "    </tr>\n",
       "  </thead>\n",
       "  <tbody>\n",
       "    <tr>\n",
       "      <th>count</th>\n",
       "      <td>541909.000000</td>\n",
       "      <td>541909.000000</td>\n",
       "      <td>406829.000000</td>\n",
       "    </tr>\n",
       "    <tr>\n",
       "      <th>mean</th>\n",
       "      <td>9.552250</td>\n",
       "      <td>4.611114</td>\n",
       "      <td>15287.690570</td>\n",
       "    </tr>\n",
       "    <tr>\n",
       "      <th>std</th>\n",
       "      <td>218.081158</td>\n",
       "      <td>96.759853</td>\n",
       "      <td>1713.600303</td>\n",
       "    </tr>\n",
       "    <tr>\n",
       "      <th>min</th>\n",
       "      <td>-80995.000000</td>\n",
       "      <td>-11062.060000</td>\n",
       "      <td>12346.000000</td>\n",
       "    </tr>\n",
       "    <tr>\n",
       "      <th>25%</th>\n",
       "      <td>1.000000</td>\n",
       "      <td>1.250000</td>\n",
       "      <td>13953.000000</td>\n",
       "    </tr>\n",
       "    <tr>\n",
       "      <th>50%</th>\n",
       "      <td>3.000000</td>\n",
       "      <td>2.080000</td>\n",
       "      <td>15152.000000</td>\n",
       "    </tr>\n",
       "    <tr>\n",
       "      <th>75%</th>\n",
       "      <td>10.000000</td>\n",
       "      <td>4.130000</td>\n",
       "      <td>16791.000000</td>\n",
       "    </tr>\n",
       "    <tr>\n",
       "      <th>max</th>\n",
       "      <td>80995.000000</td>\n",
       "      <td>38970.000000</td>\n",
       "      <td>18287.000000</td>\n",
       "    </tr>\n",
       "  </tbody>\n",
       "</table>\n",
       "</div>"
      ],
      "text/plain": [
       "            Quantity      UnitPrice     CustomerID\n",
       "count  541909.000000  541909.000000  406829.000000\n",
       "mean        9.552250       4.611114   15287.690570\n",
       "std       218.081158      96.759853    1713.600303\n",
       "min    -80995.000000  -11062.060000   12346.000000\n",
       "25%         1.000000       1.250000   13953.000000\n",
       "50%         3.000000       2.080000   15152.000000\n",
       "75%        10.000000       4.130000   16791.000000\n",
       "max     80995.000000   38970.000000   18287.000000"
      ]
     },
     "execution_count": 4,
     "metadata": {},
     "output_type": "execute_result"
    }
   ],
   "source": [
    "df.describe()"
   ]
  },
  {
   "cell_type": "code",
   "execution_count": 5,
   "metadata": {},
   "outputs": [
    {
     "data": {
      "text/plain": [
       "InvoiceNo           0\n",
       "StockCode           0\n",
       "Description      1454\n",
       "Quantity            0\n",
       "InvoiceDate         0\n",
       "UnitPrice           0\n",
       "CustomerID     135080\n",
       "Country             0\n",
       "dtype: int64"
      ]
     },
     "execution_count": 5,
     "metadata": {},
     "output_type": "execute_result"
    }
   ],
   "source": [
    "df.isnull().sum(axis = 0 )"
   ]
  },
  {
   "cell_type": "code",
   "execution_count": 6,
   "metadata": {},
   "outputs": [],
   "source": [
    "# Converting the string data to datetime:\n",
    "df.InvoiceDate = pd.to_datetime(df.InvoiceDate, format = \"%m/%d/%Y %H:%M\").dt.date"
   ]
  },
  {
   "cell_type": "code",
   "execution_count": 7,
   "metadata": {},
   "outputs": [],
   "source": [
    "# Given our analysis requires use of the Customer ID, customers without any ID will be dropped from the dataset. \n",
    "df = df[pd.notnull(df.CustomerID)]"
   ]
  },
  {
   "cell_type": "code",
   "execution_count": 8,
   "metadata": {},
   "outputs": [],
   "source": [
    "# We want to deal with just the UK based customers: \n",
    "df = df.query(\"Country == 'United Kingdom'\").reset_index(drop = True)"
   ]
  },
  {
   "cell_type": "code",
   "execution_count": 9,
   "metadata": {},
   "outputs": [],
   "source": [
    "df = df[df.Quantity>0]\n",
    "df = df[df.UnitPrice>0]"
   ]
  },
  {
   "cell_type": "code",
   "execution_count": 10,
   "metadata": {},
   "outputs": [
    {
     "data": {
      "text/plain": [
       "InvoiceNo      354321\n",
       "StockCode      354321\n",
       "Description    354321\n",
       "Quantity       354321\n",
       "InvoiceDate    354321\n",
       "UnitPrice      354321\n",
       "CustomerID     354321\n",
       "Country        354321\n",
       "dtype: int64"
      ]
     },
     "execution_count": 10,
     "metadata": {},
     "output_type": "execute_result"
    }
   ],
   "source": [
    "df.count()"
   ]
  },
  {
   "cell_type": "markdown",
   "metadata": {},
   "source": [
    "## Recency "
   ]
  },
  {
   "cell_type": "markdown",
   "metadata": {},
   "source": [
    "Recency, as the name indicates, describes how recently the customer has purchased/interacted with the business. Customers who have recently interacted with the business are more likely to keep the business in mind and purchase there again. Identifying these customers allows the business to get in contact with the individual and gently remind them to revisit soon to continue to meet their purchase needs. "
   ]
  },
  {
   "cell_type": "code",
   "execution_count": 11,
   "metadata": {},
   "outputs": [],
   "source": [
    "user_df = pd.DataFrame(df.CustomerID.unique())\n",
    "user_df.columns = [\"CustomerID\"]"
   ]
  },
  {
   "cell_type": "code",
   "execution_count": 12,
   "metadata": {},
   "outputs": [],
   "source": [
    "most_recent_df = df.groupby('CustomerID').InvoiceDate.max().reset_index()\n",
    "most_recent_df.columns = [\"CustomerID\", \"MostRecentDate\"]\n",
    "\n",
    "# Find the Recency: The number of days since the last purchase (using the most recent date in the entire dataset as a benchmark)\n",
    "most_recent_df[\"Recency\"] = (most_recent_df.MostRecentDate.max() - most_recent_df.MostRecentDate).dt.days"
   ]
  },
  {
   "cell_type": "code",
   "execution_count": 13,
   "metadata": {
    "scrolled": true
   },
   "outputs": [
    {
     "data": {
      "text/html": [
       "<div>\n",
       "<style scoped>\n",
       "    .dataframe tbody tr th:only-of-type {\n",
       "        vertical-align: middle;\n",
       "    }\n",
       "\n",
       "    .dataframe tbody tr th {\n",
       "        vertical-align: top;\n",
       "    }\n",
       "\n",
       "    .dataframe thead th {\n",
       "        text-align: right;\n",
       "    }\n",
       "</style>\n",
       "<table border=\"1\" class=\"dataframe\">\n",
       "  <thead>\n",
       "    <tr style=\"text-align: right;\">\n",
       "      <th></th>\n",
       "      <th>CustomerID</th>\n",
       "      <th>Recency</th>\n",
       "    </tr>\n",
       "  </thead>\n",
       "  <tbody>\n",
       "    <tr>\n",
       "      <th>0</th>\n",
       "      <td>17850.0</td>\n",
       "      <td>372</td>\n",
       "    </tr>\n",
       "    <tr>\n",
       "      <th>1</th>\n",
       "      <td>13047.0</td>\n",
       "      <td>31</td>\n",
       "    </tr>\n",
       "    <tr>\n",
       "      <th>2</th>\n",
       "      <td>13748.0</td>\n",
       "      <td>95</td>\n",
       "    </tr>\n",
       "    <tr>\n",
       "      <th>3</th>\n",
       "      <td>15100.0</td>\n",
       "      <td>333</td>\n",
       "    </tr>\n",
       "    <tr>\n",
       "      <th>4</th>\n",
       "      <td>15291.0</td>\n",
       "      <td>25</td>\n",
       "    </tr>\n",
       "  </tbody>\n",
       "</table>\n",
       "</div>"
      ],
      "text/plain": [
       "   CustomerID  Recency\n",
       "0     17850.0      372\n",
       "1     13047.0       31\n",
       "2     13748.0       95\n",
       "3     15100.0      333\n",
       "4     15291.0       25"
      ]
     },
     "execution_count": 13,
     "metadata": {},
     "output_type": "execute_result"
    }
   ],
   "source": [
    "user_df = pd.merge(user_df, most_recent_df[[\"CustomerID\", \"Recency\"]], on = [\"CustomerID\"])\n",
    "user_df.head()"
   ]
  },
  {
   "cell_type": "code",
   "execution_count": 14,
   "metadata": {},
   "outputs": [
    {
     "data": {
      "image/png": "[encoded data removed]",
      "text/plain": [
       "<Figure size 1152x288 with 1 Axes>"
      ]
     },
     "metadata": {
      "needs_background": "light"
     },
     "output_type": "display_data"
    }
   ],
   "source": [
    "plt.figure(figsize = (16, 4))\n",
    "sns.distplot(user_df.Recency, bins = 75, kde = True)\n",
    "plt.title(\"Distribution of recency\")\n",
    "plt.show()"
   ]
  },
  {
   "cell_type": "markdown",
   "metadata": {},
   "source": [
    "### Applying K Means Clustering"
   ]
  },
  {
   "cell_type": "code",
   "execution_count": 15,
   "metadata": {},
   "outputs": [],
   "source": [
    "from sklearn.cluster import KMeans"
   ]
  },
  {
   "cell_type": "code",
   "execution_count": 16,
   "metadata": {},
   "outputs": [],
   "source": [
    "sum_of_squared_distances = []\n",
    "k_vals = range(1, 10)\n",
    "recency = user_df.Recency\n",
    "recency = recency.values.reshape(-1, 1)\n",
    "for k in k_vals:\n",
    "    KM = KMeans(n_clusters = k, random_state = 42).fit(recency)\n",
    "    sum_of_squared_distances.append(KM.inertia_)"
   ]
  },
  {
   "cell_type": "code",
   "execution_count": 17,
   "metadata": {},
   "outputs": [
    {
     "data": {
      "image/png": "[encoded data removed]",
      "text/plain": [
       "<Figure size 432x288 with 1 Axes>"
      ]
     },
     "metadata": {
      "needs_background": "light"
     },
     "output_type": "display_data"
    }
   ],
   "source": [
    "plt.figure()\n",
    "plt.plot(k_vals, sum_of_squared_distances)\n",
    "plt.xlabel(\"K Value\")\n",
    "plt.ylabel(\"Sum of squared distances to closest cluster\")\n",
    "plt.title(\"Elbow plot for K Means\")\n",
    "plt.show()"
   ]
  },
  {
   "cell_type": "markdown",
   "metadata": {},
   "source": [
    "On the elbow plot, the optimal K value is found at the \"elbow\" of the plot (imagining the plot forms an arm). In this case, it appears to occur at 2 or 3. We shall use K = 3. "
   ]
  },
  {
   "cell_type": "code",
   "execution_count": 18,
   "metadata": {},
   "outputs": [],
   "source": [
    "def sort_clusters(df, column, cluster_column, descending = False):\n",
    "    means = df.groupby(cluster_column)[column].mean().reset_index()\n",
    "    cluster_vals = means[cluster_column].values\n",
    "    means = means.sort_values(by = column)\n",
    "    correct_order = means[cluster_column].values    \n",
    "    df[cluster_column] = user_df[cluster_column].replace(correct_order, cluster_vals)\n",
    " \n",
    "    if descending:     \n",
    "        df[cluster_column] = user_df[cluster_column].replace(cluster_vals[::-1], cluster_vals)\n",
    "    \n",
    "    return df"
   ]
  },
  {
   "cell_type": "code",
   "execution_count": 19,
   "metadata": {},
   "outputs": [],
   "source": [
    "k_val = 5"
   ]
  },
  {
   "cell_type": "code",
   "execution_count": 20,
   "metadata": {},
   "outputs": [],
   "source": [
    "km = KMeans(n_clusters = k_val, random_state = 42)\n",
    "km.fit(user_df[[\"Recency\"]])\n",
    "user_df[\"RecencyCluster\"] = km.predict(user_df[[\"Recency\"]])\n"
   ]
  },
  {
   "cell_type": "code",
   "execution_count": 21,
   "metadata": {},
   "outputs": [
    {
     "data": {
      "image/png": "[encoded data removed]",
      "text/plain": [
       "<Figure size 432x288 with 1 Axes>"
      ]
     },
     "metadata": {
      "needs_background": "light"
     },
     "output_type": "display_data"
    }
   ],
   "source": [
    "user_df = sort_clusters(user_df, \"Recency\", \"RecencyCluster\", descending = True)\n",
    "sns.violinplot(user_df[\"RecencyCluster\"], user_df[\"Recency\"])\n",
    "plt.title(\"Recency Grouping\")\n",
    "plt.xlabel(\"Recency Clustering Group\")\n",
    "plt.show()"
   ]
  },
  {
   "cell_type": "code",
   "execution_count": 22,
   "metadata": {},
   "outputs": [
    {
     "data": {
      "text/html": [
       "<div>\n",
       "<style scoped>\n",
       "    .dataframe tbody tr th:only-of-type {\n",
       "        vertical-align: middle;\n",
       "    }\n",
       "\n",
       "    .dataframe tbody tr th {\n",
       "        vertical-align: top;\n",
       "    }\n",
       "\n",
       "    .dataframe thead th {\n",
       "        text-align: right;\n",
       "    }\n",
       "</style>\n",
       "<table border=\"1\" class=\"dataframe\">\n",
       "  <thead>\n",
       "    <tr style=\"text-align: right;\">\n",
       "      <th></th>\n",
       "      <th>CustomerID</th>\n",
       "      <th>Recency</th>\n",
       "      <th>RecencyCluster</th>\n",
       "    </tr>\n",
       "  </thead>\n",
       "  <tbody>\n",
       "    <tr>\n",
       "      <th>count</th>\n",
       "      <td>3920.000000</td>\n",
       "      <td>3920.000000</td>\n",
       "      <td>3920.000000</td>\n",
       "    </tr>\n",
       "    <tr>\n",
       "      <th>mean</th>\n",
       "      <td>15562.059694</td>\n",
       "      <td>91.742092</td>\n",
       "      <td>2.964031</td>\n",
       "    </tr>\n",
       "    <tr>\n",
       "      <th>std</th>\n",
       "      <td>1576.594671</td>\n",
       "      <td>99.533485</td>\n",
       "      <td>1.255956</td>\n",
       "    </tr>\n",
       "    <tr>\n",
       "      <th>min</th>\n",
       "      <td>12346.000000</td>\n",
       "      <td>0.000000</td>\n",
       "      <td>0.000000</td>\n",
       "    </tr>\n",
       "    <tr>\n",
       "      <th>25%</th>\n",
       "      <td>14208.750000</td>\n",
       "      <td>17.000000</td>\n",
       "      <td>2.000000</td>\n",
       "    </tr>\n",
       "    <tr>\n",
       "      <th>50%</th>\n",
       "      <td>15569.500000</td>\n",
       "      <td>50.000000</td>\n",
       "      <td>3.000000</td>\n",
       "    </tr>\n",
       "    <tr>\n",
       "      <th>75%</th>\n",
       "      <td>16913.250000</td>\n",
       "      <td>142.000000</td>\n",
       "      <td>4.000000</td>\n",
       "    </tr>\n",
       "    <tr>\n",
       "      <th>max</th>\n",
       "      <td>18287.000000</td>\n",
       "      <td>373.000000</td>\n",
       "      <td>4.000000</td>\n",
       "    </tr>\n",
       "  </tbody>\n",
       "</table>\n",
       "</div>"
      ],
      "text/plain": [
       "         CustomerID      Recency  RecencyCluster\n",
       "count   3920.000000  3920.000000     3920.000000\n",
       "mean   15562.059694    91.742092        2.964031\n",
       "std     1576.594671    99.533485        1.255956\n",
       "min    12346.000000     0.000000        0.000000\n",
       "25%    14208.750000    17.000000        2.000000\n",
       "50%    15569.500000    50.000000        3.000000\n",
       "75%    16913.250000   142.000000        4.000000\n",
       "max    18287.000000   373.000000        4.000000"
      ]
     },
     "execution_count": 22,
     "metadata": {},
     "output_type": "execute_result"
    }
   ],
   "source": [
    "user_df.describe()"
   ]
  },
  {
   "cell_type": "markdown",
   "metadata": {},
   "source": [
    "## Frequency"
   ]
  },
  {
   "cell_type": "markdown",
   "metadata": {},
   "source": [
    "Frequency is simply defined as how often a customer purchased or interacted with a business. This can be calculated from the data through counting the number of invoices associated with each customer. "
   ]
  },
  {
   "cell_type": "code",
   "execution_count": 23,
   "metadata": {},
   "outputs": [],
   "source": [
    "frequency_df = df.groupby(\"CustomerID\").InvoiceNo.count().reset_index()\n",
    "frequency_df.columns = [\"CustomerID\", \"InvoiceCount\"]\n",
    "frequency_df = pd.merge(frequency_df, most_recent_df[[\"CustomerID\", \"MostRecentDate\"]], on=\"CustomerID\")\n",
    "least_recent_df = df.groupby('CustomerID').InvoiceDate.min().reset_index()\n",
    "least_recent_df.columns = [\"CustomerID\", \"LeastRecentDate\"]\n",
    "frequency_df = pd.merge(frequency_df, least_recent_df, on=\"CustomerID\")"
   ]
  },
  {
   "cell_type": "code",
   "execution_count": 24,
   "metadata": {},
   "outputs": [],
   "source": [
    "frequency_df[\"CustomerDuration\"] = (frequency_df[\"MostRecentDate\"] - frequency_df[\"LeastRecentDate\"]).dt.days\n",
    "frequency_df[\"Frequency\"] = np.where(frequency_df[\"CustomerDuration\"] == 0, 0, frequency_df[\"InvoiceCount\"]/frequency_df[\"CustomerDuration\"])"
   ]
  },
  {
   "cell_type": "code",
   "execution_count": 25,
   "metadata": {},
   "outputs": [
    {
     "data": {
      "text/html": [
       "<div>\n",
       "<style scoped>\n",
       "    .dataframe tbody tr th:only-of-type {\n",
       "        vertical-align: middle;\n",
       "    }\n",
       "\n",
       "    .dataframe tbody tr th {\n",
       "        vertical-align: top;\n",
       "    }\n",
       "\n",
       "    .dataframe thead th {\n",
       "        text-align: right;\n",
       "    }\n",
       "</style>\n",
       "<table border=\"1\" class=\"dataframe\">\n",
       "  <thead>\n",
       "    <tr style=\"text-align: right;\">\n",
       "      <th></th>\n",
       "      <th>CustomerID</th>\n",
       "      <th>Recency</th>\n",
       "      <th>RecencyCluster</th>\n",
       "      <th>Frequency</th>\n",
       "    </tr>\n",
       "  </thead>\n",
       "  <tbody>\n",
       "    <tr>\n",
       "      <th>0</th>\n",
       "      <td>17850.0</td>\n",
       "      <td>372</td>\n",
       "      <td>0</td>\n",
       "      <td>297.000000</td>\n",
       "    </tr>\n",
       "    <tr>\n",
       "      <th>1</th>\n",
       "      <td>13047.0</td>\n",
       "      <td>31</td>\n",
       "      <td>4</td>\n",
       "      <td>0.502924</td>\n",
       "    </tr>\n",
       "    <tr>\n",
       "      <th>2</th>\n",
       "      <td>13748.0</td>\n",
       "      <td>95</td>\n",
       "      <td>3</td>\n",
       "      <td>0.100719</td>\n",
       "    </tr>\n",
       "    <tr>\n",
       "      <th>3</th>\n",
       "      <td>15100.0</td>\n",
       "      <td>333</td>\n",
       "      <td>0</td>\n",
       "      <td>0.075000</td>\n",
       "    </tr>\n",
       "    <tr>\n",
       "      <th>4</th>\n",
       "      <td>15291.0</td>\n",
       "      <td>25</td>\n",
       "      <td>4</td>\n",
       "      <td>0.295977</td>\n",
       "    </tr>\n",
       "  </tbody>\n",
       "</table>\n",
       "</div>"
      ],
      "text/plain": [
       "   CustomerID  Recency  RecencyCluster   Frequency\n",
       "0     17850.0      372               0  297.000000\n",
       "1     13047.0       31               4    0.502924\n",
       "2     13748.0       95               3    0.100719\n",
       "3     15100.0      333               0    0.075000\n",
       "4     15291.0       25               4    0.295977"
      ]
     },
     "execution_count": 25,
     "metadata": {},
     "output_type": "execute_result"
    }
   ],
   "source": [
    "user_df = pd.merge(user_df, frequency_df[[\"CustomerID\", \"Frequency\"]], on = \"CustomerID\")\n",
    "user_df.head()"
   ]
  },
  {
   "cell_type": "code",
   "execution_count": 26,
   "metadata": {},
   "outputs": [
    {
     "data": {
      "text/plain": [
       "count    3920.000000\n",
       "mean        0.763525\n",
       "std         6.225084\n",
       "min         0.000000\n",
       "25%         0.000000\n",
       "50%         0.199109\n",
       "75%         0.578398\n",
       "max       297.000000\n",
       "Name: Frequency, dtype: float64"
      ]
     },
     "execution_count": 26,
     "metadata": {},
     "output_type": "execute_result"
    }
   ],
   "source": [
    "user_df.Frequency.describe()"
   ]
  },
  {
   "cell_type": "code",
   "execution_count": 27,
   "metadata": {
    "scrolled": true
   },
   "outputs": [
    {
     "data": {
      "image/png": "[encoded data removed]",
      "text/plain": [
       "<Figure size 1152x288 with 1 Axes>"
      ]
     },
     "metadata": {
      "needs_background": "light"
     },
     "output_type": "display_data"
    }
   ],
   "source": [
    "plt.figure(figsize = (16, 4))\n",
    "plt.hist(user_df[user_df.Frequency < 1].Frequency, bins = 500)\n",
    "plt.title(\"Frequency Histogram\")\n",
    "plt.xlabel(\"Frequency\")\n",
    "plt.show()"
   ]
  },
  {
   "cell_type": "code",
   "execution_count": 28,
   "metadata": {},
   "outputs": [],
   "source": [
    "km = KMeans(n_clusters = k_val, random_state = 42)\n",
    "km.fit(user_df[[\"Frequency\"]])\n",
    "user_df[\"FrequencyCluster\"] = km.predict(user_df[[\"Frequency\"]])"
   ]
  },
  {
   "cell_type": "code",
   "execution_count": 29,
   "metadata": {},
   "outputs": [
    {
     "data": {
      "text/html": [
       "<div>\n",
       "<style scoped>\n",
       "    .dataframe tbody tr th:only-of-type {\n",
       "        vertical-align: middle;\n",
       "    }\n",
       "\n",
       "    .dataframe tbody tr th {\n",
       "        vertical-align: top;\n",
       "    }\n",
       "\n",
       "    .dataframe thead th {\n",
       "        text-align: right;\n",
       "    }\n",
       "</style>\n",
       "<table border=\"1\" class=\"dataframe\">\n",
       "  <thead>\n",
       "    <tr style=\"text-align: right;\">\n",
       "      <th></th>\n",
       "      <th>CustomerID</th>\n",
       "      <th>Recency</th>\n",
       "      <th>RecencyCluster</th>\n",
       "      <th>Frequency</th>\n",
       "      <th>FrequencyCluster</th>\n",
       "    </tr>\n",
       "  </thead>\n",
       "  <tbody>\n",
       "    <tr>\n",
       "      <th>0</th>\n",
       "      <td>17850.0</td>\n",
       "      <td>372</td>\n",
       "      <td>0</td>\n",
       "      <td>297.000000</td>\n",
       "      <td>2</td>\n",
       "    </tr>\n",
       "    <tr>\n",
       "      <th>1</th>\n",
       "      <td>13047.0</td>\n",
       "      <td>31</td>\n",
       "      <td>4</td>\n",
       "      <td>0.502924</td>\n",
       "      <td>0</td>\n",
       "    </tr>\n",
       "    <tr>\n",
       "      <th>2</th>\n",
       "      <td>13748.0</td>\n",
       "      <td>95</td>\n",
       "      <td>3</td>\n",
       "      <td>0.100719</td>\n",
       "      <td>0</td>\n",
       "    </tr>\n",
       "    <tr>\n",
       "      <th>3</th>\n",
       "      <td>15100.0</td>\n",
       "      <td>333</td>\n",
       "      <td>0</td>\n",
       "      <td>0.075000</td>\n",
       "      <td>0</td>\n",
       "    </tr>\n",
       "    <tr>\n",
       "      <th>4</th>\n",
       "      <td>15291.0</td>\n",
       "      <td>25</td>\n",
       "      <td>4</td>\n",
       "      <td>0.295977</td>\n",
       "      <td>0</td>\n",
       "    </tr>\n",
       "  </tbody>\n",
       "</table>\n",
       "</div>"
      ],
      "text/plain": [
       "   CustomerID  Recency  RecencyCluster   Frequency  FrequencyCluster\n",
       "0     17850.0      372               0  297.000000                 2\n",
       "1     13047.0       31               4    0.502924                 0\n",
       "2     13748.0       95               3    0.100719                 0\n",
       "3     15100.0      333               0    0.075000                 0\n",
       "4     15291.0       25               4    0.295977                 0"
      ]
     },
     "execution_count": 29,
     "metadata": {},
     "output_type": "execute_result"
    }
   ],
   "source": [
    "user_df.head()"
   ]
  },
  {
   "cell_type": "code",
   "execution_count": 30,
   "metadata": {},
   "outputs": [
    {
     "data": {
      "image/png": "[encoded data removed]",
      "text/plain": [
       "<Figure size 432x288 with 1 Axes>"
      ]
     },
     "metadata": {
      "needs_background": "light"
     },
     "output_type": "display_data"
    }
   ],
   "source": [
    "user_df = sort_clusters(user_df, \"Frequency\", \"FrequencyCluster\")\n",
    "sns.violinplot(user_df.FrequencyCluster, user_df.Frequency)\n",
    "plt.xlabel(\"Cluster Number\")\n",
    "plt.title(\"Violin plot of different frequency clusters\")\n",
    "plt.show()"
   ]
  },
  {
   "cell_type": "code",
   "execution_count": 31,
   "metadata": {},
   "outputs": [
    {
     "data": {
      "text/plain": [
       "CustomerID          3920\n",
       "Recency             3920\n",
       "RecencyCluster      3920\n",
       "Frequency           3920\n",
       "FrequencyCluster    3920\n",
       "dtype: int64"
      ]
     },
     "execution_count": 31,
     "metadata": {},
     "output_type": "execute_result"
    }
   ],
   "source": [
    "user_df.count()"
   ]
  },
  {
   "cell_type": "code",
   "execution_count": 32,
   "metadata": {},
   "outputs": [
    {
     "name": "stdout",
     "output_type": "stream",
     "text": [
      "1398\n"
     ]
    }
   ],
   "source": [
    "print(user_df[user_df.Frequency == 0].Frequency.count())"
   ]
  },
  {
   "cell_type": "markdown",
   "metadata": {},
   "source": [
    "## Monetary Value"
   ]
  },
  {
   "cell_type": "markdown",
   "metadata": {},
   "source": [
    "Monetary value relates to how much the customer is actually spending. The dataset here gives the price of the unit bought as well as how many units were purchased. Therefore it is a simple piece of multiplication to work out how much the individual has spent on any single invoice. The total for each invoice can be summed for each customer to find the total amount that they have spent. "
   ]
  },
  {
   "cell_type": "code",
   "execution_count": 33,
   "metadata": {
    "scrolled": true
   },
   "outputs": [
    {
     "data": {
      "text/html": [
       "<div>\n",
       "<style scoped>\n",
       "    .dataframe tbody tr th:only-of-type {\n",
       "        vertical-align: middle;\n",
       "    }\n",
       "\n",
       "    .dataframe tbody tr th {\n",
       "        vertical-align: top;\n",
       "    }\n",
       "\n",
       "    .dataframe thead th {\n",
       "        text-align: right;\n",
       "    }\n",
       "</style>\n",
       "<table border=\"1\" class=\"dataframe\">\n",
       "  <thead>\n",
       "    <tr style=\"text-align: right;\">\n",
       "      <th></th>\n",
       "      <th>InvoiceNo</th>\n",
       "      <th>StockCode</th>\n",
       "      <th>Description</th>\n",
       "      <th>Quantity</th>\n",
       "      <th>InvoiceDate</th>\n",
       "      <th>UnitPrice</th>\n",
       "      <th>CustomerID</th>\n",
       "      <th>Country</th>\n",
       "      <th>Revenue</th>\n",
       "    </tr>\n",
       "  </thead>\n",
       "  <tbody>\n",
       "    <tr>\n",
       "      <th>0</th>\n",
       "      <td>536365</td>\n",
       "      <td>85123A</td>\n",
       "      <td>WHITE HANGING HEART T-LIGHT HOLDER</td>\n",
       "      <td>6</td>\n",
       "      <td>2010-12-01</td>\n",
       "      <td>2.55</td>\n",
       "      <td>17850.0</td>\n",
       "      <td>United Kingdom</td>\n",
       "      <td>15.30</td>\n",
       "    </tr>\n",
       "    <tr>\n",
       "      <th>1</th>\n",
       "      <td>536365</td>\n",
       "      <td>71053</td>\n",
       "      <td>WHITE METAL LANTERN</td>\n",
       "      <td>6</td>\n",
       "      <td>2010-12-01</td>\n",
       "      <td>3.39</td>\n",
       "      <td>17850.0</td>\n",
       "      <td>United Kingdom</td>\n",
       "      <td>20.34</td>\n",
       "    </tr>\n",
       "    <tr>\n",
       "      <th>2</th>\n",
       "      <td>536365</td>\n",
       "      <td>84406B</td>\n",
       "      <td>CREAM CUPID HEARTS COAT HANGER</td>\n",
       "      <td>8</td>\n",
       "      <td>2010-12-01</td>\n",
       "      <td>2.75</td>\n",
       "      <td>17850.0</td>\n",
       "      <td>United Kingdom</td>\n",
       "      <td>22.00</td>\n",
       "    </tr>\n",
       "    <tr>\n",
       "      <th>3</th>\n",
       "      <td>536365</td>\n",
       "      <td>84029G</td>\n",
       "      <td>KNITTED UNION FLAG HOT WATER BOTTLE</td>\n",
       "      <td>6</td>\n",
       "      <td>2010-12-01</td>\n",
       "      <td>3.39</td>\n",
       "      <td>17850.0</td>\n",
       "      <td>United Kingdom</td>\n",
       "      <td>20.34</td>\n",
       "    </tr>\n",
       "    <tr>\n",
       "      <th>4</th>\n",
       "      <td>536365</td>\n",
       "      <td>84029E</td>\n",
       "      <td>RED WOOLLY HOTTIE WHITE HEART.</td>\n",
       "      <td>6</td>\n",
       "      <td>2010-12-01</td>\n",
       "      <td>3.39</td>\n",
       "      <td>17850.0</td>\n",
       "      <td>United Kingdom</td>\n",
       "      <td>20.34</td>\n",
       "    </tr>\n",
       "  </tbody>\n",
       "</table>\n",
       "</div>"
      ],
      "text/plain": [
       "  InvoiceNo StockCode                          Description  Quantity  \\\n",
       "0    536365    85123A   WHITE HANGING HEART T-LIGHT HOLDER         6   \n",
       "1    536365     71053                  WHITE METAL LANTERN         6   \n",
       "2    536365    84406B       CREAM CUPID HEARTS COAT HANGER         8   \n",
       "3    536365    84029G  KNITTED UNION FLAG HOT WATER BOTTLE         6   \n",
       "4    536365    84029E       RED WOOLLY HOTTIE WHITE HEART.         6   \n",
       "\n",
       "  InvoiceDate  UnitPrice  CustomerID         Country  Revenue  \n",
       "0  2010-12-01       2.55     17850.0  United Kingdom    15.30  \n",
       "1  2010-12-01       3.39     17850.0  United Kingdom    20.34  \n",
       "2  2010-12-01       2.75     17850.0  United Kingdom    22.00  \n",
       "3  2010-12-01       3.39     17850.0  United Kingdom    20.34  \n",
       "4  2010-12-01       3.39     17850.0  United Kingdom    20.34  "
      ]
     },
     "execution_count": 33,
     "metadata": {},
     "output_type": "execute_result"
    }
   ],
   "source": [
    "df[\"Revenue\"] = df.UnitPrice * df.Quantity\n",
    "df.head()"
   ]
  },
  {
   "cell_type": "code",
   "execution_count": 34,
   "metadata": {},
   "outputs": [
    {
     "data": {
      "text/html": [
       "<div>\n",
       "<style scoped>\n",
       "    .dataframe tbody tr th:only-of-type {\n",
       "        vertical-align: middle;\n",
       "    }\n",
       "\n",
       "    .dataframe tbody tr th {\n",
       "        vertical-align: top;\n",
       "    }\n",
       "\n",
       "    .dataframe thead th {\n",
       "        text-align: right;\n",
       "    }\n",
       "</style>\n",
       "<table border=\"1\" class=\"dataframe\">\n",
       "  <thead>\n",
       "    <tr style=\"text-align: right;\">\n",
       "      <th></th>\n",
       "      <th>CustomerID</th>\n",
       "      <th>Recency</th>\n",
       "      <th>RecencyCluster</th>\n",
       "      <th>Frequency</th>\n",
       "      <th>FrequencyCluster</th>\n",
       "      <th>MonetaryValue</th>\n",
       "    </tr>\n",
       "  </thead>\n",
       "  <tbody>\n",
       "    <tr>\n",
       "      <th>0</th>\n",
       "      <td>17850.0</td>\n",
       "      <td>372</td>\n",
       "      <td>0</td>\n",
       "      <td>297.000000</td>\n",
       "      <td>4</td>\n",
       "      <td>18.152222</td>\n",
       "    </tr>\n",
       "    <tr>\n",
       "      <th>1</th>\n",
       "      <td>13047.0</td>\n",
       "      <td>31</td>\n",
       "      <td>4</td>\n",
       "      <td>0.502924</td>\n",
       "      <td>0</td>\n",
       "      <td>18.822907</td>\n",
       "    </tr>\n",
       "    <tr>\n",
       "      <th>2</th>\n",
       "      <td>13748.0</td>\n",
       "      <td>95</td>\n",
       "      <td>3</td>\n",
       "      <td>0.100719</td>\n",
       "      <td>0</td>\n",
       "      <td>33.866071</td>\n",
       "    </tr>\n",
       "    <tr>\n",
       "      <th>3</th>\n",
       "      <td>15100.0</td>\n",
       "      <td>333</td>\n",
       "      <td>0</td>\n",
       "      <td>0.075000</td>\n",
       "      <td>0</td>\n",
       "      <td>292.000000</td>\n",
       "    </tr>\n",
       "    <tr>\n",
       "      <th>4</th>\n",
       "      <td>15291.0</td>\n",
       "      <td>25</td>\n",
       "      <td>4</td>\n",
       "      <td>0.295977</td>\n",
       "      <td>0</td>\n",
       "      <td>45.323301</td>\n",
       "    </tr>\n",
       "  </tbody>\n",
       "</table>\n",
       "</div>"
      ],
      "text/plain": [
       "   CustomerID  Recency  RecencyCluster   Frequency  FrequencyCluster  \\\n",
       "0     17850.0      372               0  297.000000                 4   \n",
       "1     13047.0       31               4    0.502924                 0   \n",
       "2     13748.0       95               3    0.100719                 0   \n",
       "3     15100.0      333               0    0.075000                 0   \n",
       "4     15291.0       25               4    0.295977                 0   \n",
       "\n",
       "   MonetaryValue  \n",
       "0      18.152222  \n",
       "1      18.822907  \n",
       "2      33.866071  \n",
       "3     292.000000  \n",
       "4      45.323301  "
      ]
     },
     "execution_count": 34,
     "metadata": {},
     "output_type": "execute_result"
    }
   ],
   "source": [
    "monetary_df = df.groupby(\"CustomerID\").Revenue.mean().reset_index()\n",
    "monetary_df.columns = [\"CustomerID\", \"MonetaryValue\"]\n",
    "\n",
    "user_df = pd.merge(user_df, monetary_df, on = \"CustomerID\")\n",
    "user_df.head()"
   ]
  },
  {
   "cell_type": "code",
   "execution_count": 35,
   "metadata": {
    "scrolled": true
   },
   "outputs": [
    {
     "data": {
      "image/png": "[encoded data removed]",
      "text/plain": [
       "<Figure size 1152x288 with 1 Axes>"
      ]
     },
     "metadata": {
      "needs_background": "light"
     },
     "output_type": "display_data"
    }
   ],
   "source": [
    "plt.figure(figsize = (16, 4))\n",
    "plt.hist(user_df[\"MonetaryValue\"], bins = 1000)\n",
    "plt.title(\"Monetary Value Histogram\")\n",
    "plt.xlabel(\"Monetary Value\")\n",
    "plt.xlim(0, 10000)\n",
    "plt.show()"
   ]
  },
  {
   "cell_type": "code",
   "execution_count": 36,
   "metadata": {},
   "outputs": [],
   "source": [
    "km = KMeans(n_clusters = k_val, random_state = 42)\n",
    "km.fit(user_df[[\"MonetaryValue\"]])\n",
    "user_df[\"MonetaryCluster\"] = km.predict(user_df[[\"MonetaryValue\"]])"
   ]
  },
  {
   "cell_type": "code",
   "execution_count": 37,
   "metadata": {},
   "outputs": [
    {
     "data": {
      "image/png": "[encoded data removed]",
      "text/plain": [
       "<Figure size 432x288 with 1 Axes>"
      ]
     },
     "metadata": {
      "needs_background": "light"
     },
     "output_type": "display_data"
    }
   ],
   "source": [
    "user_df = sort_clusters(user_df, \"MonetaryValue\", \"MonetaryCluster\")\n",
    "sns.violinplot(user_df.MonetaryCluster, user_df.MonetaryValue )\n",
    "plt.xlabel(\"Cluster Number\")\n",
    "plt.title(\"Violin plot of monetary value clusters\")\n",
    "plt.show()"
   ]
  },
  {
   "cell_type": "code",
   "execution_count": 38,
   "metadata": {},
   "outputs": [],
   "source": [
    "user_df[\"OverallScore\"] = user_df.RecencyCluster + user_df.FrequencyCluster + user_df.MonetaryCluster"
   ]
  },
  {
   "cell_type": "code",
   "execution_count": 39,
   "metadata": {},
   "outputs": [
    {
     "data": {
      "text/html": [
       "<div>\n",
       "<style scoped>\n",
       "    .dataframe tbody tr th:only-of-type {\n",
       "        vertical-align: middle;\n",
       "    }\n",
       "\n",
       "    .dataframe tbody tr th {\n",
       "        vertical-align: top;\n",
       "    }\n",
       "\n",
       "    .dataframe thead tr th {\n",
       "        text-align: left;\n",
       "    }\n",
       "\n",
       "    .dataframe thead tr:last-of-type th {\n",
       "        text-align: right;\n",
       "    }\n",
       "</style>\n",
       "<table border=\"1\" class=\"dataframe\">\n",
       "  <thead>\n",
       "    <tr>\n",
       "      <th></th>\n",
       "      <th colspan=\"8\" halign=\"left\">Recency</th>\n",
       "      <th colspan=\"5\" halign=\"left\">Frequency</th>\n",
       "      <th colspan=\"8\" halign=\"left\">MonetaryValue</th>\n",
       "    </tr>\n",
       "    <tr>\n",
       "      <th></th>\n",
       "      <th>count</th>\n",
       "      <th>mean</th>\n",
       "      <th>std</th>\n",
       "      <th>min</th>\n",
       "      <th>25%</th>\n",
       "      <th>50%</th>\n",
       "      <th>75%</th>\n",
       "      <th>max</th>\n",
       "      <th>count</th>\n",
       "      <th>mean</th>\n",
       "      <th>...</th>\n",
       "      <th>75%</th>\n",
       "      <th>max</th>\n",
       "      <th>count</th>\n",
       "      <th>mean</th>\n",
       "      <th>std</th>\n",
       "      <th>min</th>\n",
       "      <th>25%</th>\n",
       "      <th>50%</th>\n",
       "      <th>75%</th>\n",
       "      <th>max</th>\n",
       "    </tr>\n",
       "    <tr>\n",
       "      <th>OverallScore</th>\n",
       "      <th></th>\n",
       "      <th></th>\n",
       "      <th></th>\n",
       "      <th></th>\n",
       "      <th></th>\n",
       "      <th></th>\n",
       "      <th></th>\n",
       "      <th></th>\n",
       "      <th></th>\n",
       "      <th></th>\n",
       "      <th></th>\n",
       "      <th></th>\n",
       "      <th></th>\n",
       "      <th></th>\n",
       "      <th></th>\n",
       "      <th></th>\n",
       "      <th></th>\n",
       "      <th></th>\n",
       "      <th></th>\n",
       "      <th></th>\n",
       "      <th></th>\n",
       "    </tr>\n",
       "  </thead>\n",
       "  <tbody>\n",
       "    <tr>\n",
       "      <th>0</th>\n",
       "      <td>249.0</td>\n",
       "      <td>336.112450</td>\n",
       "      <td>27.220045</td>\n",
       "      <td>294.0</td>\n",
       "      <td>311.0</td>\n",
       "      <td>331.0</td>\n",
       "      <td>365.0</td>\n",
       "      <td>373.0</td>\n",
       "      <td>249.0</td>\n",
       "      <td>0.168584</td>\n",
       "      <td>...</td>\n",
       "      <td>0.000000</td>\n",
       "      <td>3.500000</td>\n",
       "      <td>249.0</td>\n",
       "      <td>38.692904</td>\n",
       "      <td>93.796774</td>\n",
       "      <td>2.101286</td>\n",
       "      <td>11.553684</td>\n",
       "      <td>16.918788</td>\n",
       "      <td>27.621429</td>\n",
       "      <td>1001.200000</td>\n",
       "    </tr>\n",
       "    <tr>\n",
       "      <th>1</th>\n",
       "      <td>390.0</td>\n",
       "      <td>248.379487</td>\n",
       "      <td>25.168422</td>\n",
       "      <td>205.0</td>\n",
       "      <td>226.0</td>\n",
       "      <td>249.0</td>\n",
       "      <td>267.0</td>\n",
       "      <td>360.0</td>\n",
       "      <td>390.0</td>\n",
       "      <td>0.152462</td>\n",
       "      <td>...</td>\n",
       "      <td>0.000000</td>\n",
       "      <td>4.750000</td>\n",
       "      <td>390.0</td>\n",
       "      <td>32.156272</td>\n",
       "      <td>67.844560</td>\n",
       "      <td>2.241000</td>\n",
       "      <td>13.034099</td>\n",
       "      <td>17.282115</td>\n",
       "      <td>24.840920</td>\n",
       "      <td>931.500000</td>\n",
       "    </tr>\n",
       "    <tr>\n",
       "      <th>2</th>\n",
       "      <td>465.0</td>\n",
       "      <td>161.664516</td>\n",
       "      <td>25.907148</td>\n",
       "      <td>119.0</td>\n",
       "      <td>138.0</td>\n",
       "      <td>162.0</td>\n",
       "      <td>184.0</td>\n",
       "      <td>239.0</td>\n",
       "      <td>465.0</td>\n",
       "      <td>0.389633</td>\n",
       "      <td>...</td>\n",
       "      <td>0.426396</td>\n",
       "      <td>23.000000</td>\n",
       "      <td>465.0</td>\n",
       "      <td>42.500967</td>\n",
       "      <td>215.088077</td>\n",
       "      <td>2.656932</td>\n",
       "      <td>11.693852</td>\n",
       "      <td>17.624444</td>\n",
       "      <td>24.737500</td>\n",
       "      <td>4453.430000</td>\n",
       "    </tr>\n",
       "    <tr>\n",
       "      <th>3</th>\n",
       "      <td>932.0</td>\n",
       "      <td>73.787554</td>\n",
       "      <td>20.969364</td>\n",
       "      <td>46.0</td>\n",
       "      <td>58.0</td>\n",
       "      <td>71.0</td>\n",
       "      <td>87.0</td>\n",
       "      <td>198.0</td>\n",
       "      <td>932.0</td>\n",
       "      <td>0.354059</td>\n",
       "      <td>...</td>\n",
       "      <td>0.426201</td>\n",
       "      <td>15.000000</td>\n",
       "      <td>932.0</td>\n",
       "      <td>33.535147</td>\n",
       "      <td>112.471664</td>\n",
       "      <td>2.547049</td>\n",
       "      <td>13.789294</td>\n",
       "      <td>18.182987</td>\n",
       "      <td>26.553017</td>\n",
       "      <td>3096.000000</td>\n",
       "    </tr>\n",
       "    <tr>\n",
       "      <th>4</th>\n",
       "      <td>1826.0</td>\n",
       "      <td>18.779299</td>\n",
       "      <td>17.867673</td>\n",
       "      <td>0.0</td>\n",
       "      <td>7.0</td>\n",
       "      <td>17.0</td>\n",
       "      <td>29.0</td>\n",
       "      <td>372.0</td>\n",
       "      <td>1826.0</td>\n",
       "      <td>0.811123</td>\n",
       "      <td>...</td>\n",
       "      <td>0.773954</td>\n",
       "      <td>297.000000</td>\n",
       "      <td>1826.0</td>\n",
       "      <td>79.865296</td>\n",
       "      <td>1834.170669</td>\n",
       "      <td>2.150588</td>\n",
       "      <td>10.065947</td>\n",
       "      <td>17.129960</td>\n",
       "      <td>23.190674</td>\n",
       "      <td>77183.600000</td>\n",
       "    </tr>\n",
       "    <tr>\n",
       "      <th>5</th>\n",
       "      <td>52.0</td>\n",
       "      <td>15.288462</td>\n",
       "      <td>14.592956</td>\n",
       "      <td>0.0</td>\n",
       "      <td>3.0</td>\n",
       "      <td>8.5</td>\n",
       "      <td>24.0</td>\n",
       "      <td>57.0</td>\n",
       "      <td>52.0</td>\n",
       "      <td>9.262698</td>\n",
       "      <td>...</td>\n",
       "      <td>9.251337</td>\n",
       "      <td>61.000000</td>\n",
       "      <td>52.0</td>\n",
       "      <td>115.771250</td>\n",
       "      <td>578.456984</td>\n",
       "      <td>2.432500</td>\n",
       "      <td>4.730492</td>\n",
       "      <td>6.459703</td>\n",
       "      <td>10.276910</td>\n",
       "      <td>3861.000000</td>\n",
       "    </tr>\n",
       "    <tr>\n",
       "      <th>6</th>\n",
       "      <td>3.0</td>\n",
       "      <td>4.666667</td>\n",
       "      <td>4.041452</td>\n",
       "      <td>1.0</td>\n",
       "      <td>2.5</td>\n",
       "      <td>4.0</td>\n",
       "      <td>6.5</td>\n",
       "      <td>9.0</td>\n",
       "      <td>3.0</td>\n",
       "      <td>45.878389</td>\n",
       "      <td>...</td>\n",
       "      <td>50.567583</td>\n",
       "      <td>52.690722</td>\n",
       "      <td>3.0</td>\n",
       "      <td>10.738377</td>\n",
       "      <td>7.431307</td>\n",
       "      <td>2.508372</td>\n",
       "      <td>7.629141</td>\n",
       "      <td>12.749910</td>\n",
       "      <td>14.853380</td>\n",
       "      <td>16.956849</td>\n",
       "    </tr>\n",
       "    <tr>\n",
       "      <th>7</th>\n",
       "      <td>3.0</td>\n",
       "      <td>8.333333</td>\n",
       "      <td>8.504901</td>\n",
       "      <td>0.0</td>\n",
       "      <td>4.0</td>\n",
       "      <td>8.0</td>\n",
       "      <td>12.5</td>\n",
       "      <td>17.0</td>\n",
       "      <td>3.0</td>\n",
       "      <td>93.338211</td>\n",
       "      <td>...</td>\n",
       "      <td>140.000000</td>\n",
       "      <td>159.000000</td>\n",
       "      <td>3.0</td>\n",
       "      <td>18737.692066</td>\n",
       "      <td>32406.514139</td>\n",
       "      <td>2.504876</td>\n",
       "      <td>27.788098</td>\n",
       "      <td>53.071321</td>\n",
       "      <td>28105.285660</td>\n",
       "      <td>56157.500000</td>\n",
       "    </tr>\n",
       "  </tbody>\n",
       "</table>\n",
       "<p>8 rows × 24 columns</p>\n",
       "</div>"
      ],
      "text/plain": [
       "             Recency                                                     \\\n",
       "               count        mean        std    min    25%    50%    75%   \n",
       "OverallScore                                                              \n",
       "0              249.0  336.112450  27.220045  294.0  311.0  331.0  365.0   \n",
       "1              390.0  248.379487  25.168422  205.0  226.0  249.0  267.0   \n",
       "2              465.0  161.664516  25.907148  119.0  138.0  162.0  184.0   \n",
       "3              932.0   73.787554  20.969364   46.0   58.0   71.0   87.0   \n",
       "4             1826.0   18.779299  17.867673    0.0    7.0   17.0   29.0   \n",
       "5               52.0   15.288462  14.592956    0.0    3.0    8.5   24.0   \n",
       "6                3.0    4.666667   4.041452    1.0    2.5    4.0    6.5   \n",
       "7                3.0    8.333333   8.504901    0.0    4.0    8.0   12.5   \n",
       "\n",
       "                    Frequency             ...                          \\\n",
       "                max     count       mean  ...         75%         max   \n",
       "OverallScore                              ...                           \n",
       "0             373.0     249.0   0.168584  ...    0.000000    3.500000   \n",
       "1             360.0     390.0   0.152462  ...    0.000000    4.750000   \n",
       "2             239.0     465.0   0.389633  ...    0.426396   23.000000   \n",
       "3             198.0     932.0   0.354059  ...    0.426201   15.000000   \n",
       "4             372.0    1826.0   0.811123  ...    0.773954  297.000000   \n",
       "5              57.0      52.0   9.262698  ...    9.251337   61.000000   \n",
       "6               9.0       3.0  45.878389  ...   50.567583   52.690722   \n",
       "7              17.0       3.0  93.338211  ...  140.000000  159.000000   \n",
       "\n",
       "             MonetaryValue                                                   \\\n",
       "                     count          mean           std       min        25%   \n",
       "OverallScore                                                                  \n",
       "0                    249.0     38.692904     93.796774  2.101286  11.553684   \n",
       "1                    390.0     32.156272     67.844560  2.241000  13.034099   \n",
       "2                    465.0     42.500967    215.088077  2.656932  11.693852   \n",
       "3                    932.0     33.535147    112.471664  2.547049  13.789294   \n",
       "4                   1826.0     79.865296   1834.170669  2.150588  10.065947   \n",
       "5                     52.0    115.771250    578.456984  2.432500   4.730492   \n",
       "6                      3.0     10.738377      7.431307  2.508372   7.629141   \n",
       "7                      3.0  18737.692066  32406.514139  2.504876  27.788098   \n",
       "\n",
       "                                                     \n",
       "                    50%           75%           max  \n",
       "OverallScore                                         \n",
       "0             16.918788     27.621429   1001.200000  \n",
       "1             17.282115     24.840920    931.500000  \n",
       "2             17.624444     24.737500   4453.430000  \n",
       "3             18.182987     26.553017   3096.000000  \n",
       "4             17.129960     23.190674  77183.600000  \n",
       "5              6.459703     10.276910   3861.000000  \n",
       "6             12.749910     14.853380     16.956849  \n",
       "7             53.071321  28105.285660  56157.500000  \n",
       "\n",
       "[8 rows x 24 columns]"
      ]
     },
     "execution_count": 39,
     "metadata": {},
     "output_type": "execute_result"
    }
   ],
   "source": [
    "user_df.groupby(\"OverallScore\")[[\"Recency\", \"Frequency\", \"MonetaryValue\"]].describe()"
   ]
  },
  {
   "cell_type": "markdown",
   "metadata": {},
   "source": [
    "Say that based on the overall scores, customer's value to the business can be ranked: \n",
    "* 0 - 2 = Low Value\n",
    "* 3 - 5 = Mid Value\n",
    "* 6 - 8 = High Value"
   ]
  },
  {
   "cell_type": "code",
   "execution_count": 40,
   "metadata": {},
   "outputs": [],
   "source": [
    "user_df[\"UserValue\"] = 0\n",
    "user_df.loc[user_df[\"OverallScore\"] > 2, \"UserValue\"] = 1\n",
    "user_df.loc[user_df[\"OverallScore\"] > 5, \"UserValue\"] = 2"
   ]
  },
  {
   "cell_type": "code",
   "execution_count": 41,
   "metadata": {},
   "outputs": [
    {
     "data": {
      "text/html": [
       "<div>\n",
       "<style scoped>\n",
       "    .dataframe tbody tr th:only-of-type {\n",
       "        vertical-align: middle;\n",
       "    }\n",
       "\n",
       "    .dataframe tbody tr th {\n",
       "        vertical-align: top;\n",
       "    }\n",
       "\n",
       "    .dataframe thead th {\n",
       "        text-align: right;\n",
       "    }\n",
       "</style>\n",
       "<table border=\"1\" class=\"dataframe\">\n",
       "  <thead>\n",
       "    <tr style=\"text-align: right;\">\n",
       "      <th></th>\n",
       "      <th>CustomerID</th>\n",
       "      <th>Recency</th>\n",
       "      <th>RecencyCluster</th>\n",
       "      <th>Frequency</th>\n",
       "      <th>FrequencyCluster</th>\n",
       "      <th>MonetaryValue</th>\n",
       "      <th>MonetaryCluster</th>\n",
       "      <th>OverallScore</th>\n",
       "      <th>UserValue</th>\n",
       "    </tr>\n",
       "  </thead>\n",
       "  <tbody>\n",
       "    <tr>\n",
       "      <th>0</th>\n",
       "      <td>17850.0</td>\n",
       "      <td>372</td>\n",
       "      <td>0</td>\n",
       "      <td>297.000000</td>\n",
       "      <td>4</td>\n",
       "      <td>18.152222</td>\n",
       "      <td>0</td>\n",
       "      <td>4</td>\n",
       "      <td>1</td>\n",
       "    </tr>\n",
       "    <tr>\n",
       "      <th>1</th>\n",
       "      <td>13047.0</td>\n",
       "      <td>31</td>\n",
       "      <td>4</td>\n",
       "      <td>0.502924</td>\n",
       "      <td>0</td>\n",
       "      <td>18.822907</td>\n",
       "      <td>0</td>\n",
       "      <td>4</td>\n",
       "      <td>1</td>\n",
       "    </tr>\n",
       "    <tr>\n",
       "      <th>2</th>\n",
       "      <td>13748.0</td>\n",
       "      <td>95</td>\n",
       "      <td>3</td>\n",
       "      <td>0.100719</td>\n",
       "      <td>0</td>\n",
       "      <td>33.866071</td>\n",
       "      <td>0</td>\n",
       "      <td>3</td>\n",
       "      <td>1</td>\n",
       "    </tr>\n",
       "    <tr>\n",
       "      <th>3</th>\n",
       "      <td>15100.0</td>\n",
       "      <td>333</td>\n",
       "      <td>0</td>\n",
       "      <td>0.075000</td>\n",
       "      <td>0</td>\n",
       "      <td>292.000000</td>\n",
       "      <td>0</td>\n",
       "      <td>0</td>\n",
       "      <td>0</td>\n",
       "    </tr>\n",
       "    <tr>\n",
       "      <th>4</th>\n",
       "      <td>15291.0</td>\n",
       "      <td>25</td>\n",
       "      <td>4</td>\n",
       "      <td>0.295977</td>\n",
       "      <td>0</td>\n",
       "      <td>45.323301</td>\n",
       "      <td>0</td>\n",
       "      <td>4</td>\n",
       "      <td>1</td>\n",
       "    </tr>\n",
       "  </tbody>\n",
       "</table>\n",
       "</div>"
      ],
      "text/plain": [
       "   CustomerID  Recency  RecencyCluster   Frequency  FrequencyCluster  \\\n",
       "0     17850.0      372               0  297.000000                 4   \n",
       "1     13047.0       31               4    0.502924                 0   \n",
       "2     13748.0       95               3    0.100719                 0   \n",
       "3     15100.0      333               0    0.075000                 0   \n",
       "4     15291.0       25               4    0.295977                 0   \n",
       "\n",
       "   MonetaryValue  MonetaryCluster  OverallScore  UserValue  \n",
       "0      18.152222                0             4          1  \n",
       "1      18.822907                0             4          1  \n",
       "2      33.866071                0             3          1  \n",
       "3     292.000000                0             0          0  \n",
       "4      45.323301                0             4          1  "
      ]
     },
     "execution_count": 41,
     "metadata": {},
     "output_type": "execute_result"
    }
   ],
   "source": [
    "user_df.head()"
   ]
  },
  {
   "cell_type": "code",
   "execution_count": 42,
   "metadata": {},
   "outputs": [],
   "source": [
    "low_value_df = user_df.query(\"UserValue == 0\").reset_index(drop = True)\n",
    "mid_value_df = user_df.query(\"UserValue == 1\").reset_index(drop = True)\n",
    "high_value_df = user_df.query(\"UserValue == 2\").reset_index(drop = True)"
   ]
  },
  {
   "cell_type": "code",
   "execution_count": 43,
   "metadata": {},
   "outputs": [
    {
     "name": "stdout",
     "output_type": "stream",
     "text": [
      "Low Value:  1104\n",
      "Mid Value:  2810\n",
      "High Value:  6\n"
     ]
    }
   ],
   "source": [
    "print(\"Low Value: \", len(low_value_df))\n",
    "print(\"Mid Value: \", len(mid_value_df))\n",
    "print(\"High Value: \", len(high_value_df))"
   ]
  },
  {
   "cell_type": "code",
   "execution_count": 44,
   "metadata": {},
   "outputs": [
    {
     "data": {
      "image/png": "[encoded data removed]",
      "text/plain": [
       "<Figure size 432x288 with 1 Axes>"
      ]
     },
     "metadata": {
      "needs_background": "light"
     },
     "output_type": "display_data"
    }
   ],
   "source": [
    "plt.figure()\n",
    "x_axis = \"Frequency\"\n",
    "y_axis = \"MonetaryValue\"\n",
    "plt.scatter(high_value_df[x_axis], high_value_df[y_axis], c = 'g', alpha = 0.3, label = \"High Value\", zorder = 3)\n",
    "plt.scatter(mid_value_df[x_axis], mid_value_df[y_axis], c = 'r', alpha = 0.3, label = \"Mid Value\", zorder = 2)\n",
    "plt.scatter(low_value_df[x_axis], low_value_df[y_axis], c = 'b', alpha = 0.3, label = \"Low Value\", zorder = 4)\n",
    "plt.legend()\n",
    "plt.ylabel(y_axis)\n",
    "plt.xlabel(x_axis)\n",
    "plt.show()"
   ]
  },
  {
   "cell_type": "code",
   "execution_count": 45,
   "metadata": {},
   "outputs": [
    {
     "data": {
      "image/png": "[encoded data removed]",
      "text/plain": [
       "<Figure size 432x288 with 1 Axes>"
      ]
     },
     "metadata": {
      "needs_background": "light"
     },
     "output_type": "display_data"
    }
   ],
   "source": [
    "plt.figure()\n",
    "x_axis = \"Recency\"\n",
    "y_axis = \"Frequency\"\n",
    "plt.scatter(high_value_df[x_axis], high_value_df[y_axis], c = 'g', alpha = 0.3, label = \"High Value\", zorder = 3)\n",
    "plt.scatter(mid_value_df[x_axis], mid_value_df[y_axis], c = 'r', alpha = 0.3, label = \"Mid Value\", zorder = 2)\n",
    "plt.scatter(low_value_df[x_axis], low_value_df[y_axis], c = 'b', alpha = 0.3, label = \"Low Value\", zorder = 4)\n",
    "plt.legend()\n",
    "plt.ylabel(y_axis)\n",
    "plt.xlabel(x_axis)\n",
    "plt.show()"
   ]
  },
  {
   "cell_type": "code",
   "execution_count": 46,
   "metadata": {},
   "outputs": [
    {
     "data": {
      "image/png": "[encoded data removed]",
      "text/plain": [
       "<Figure size 432x288 with 1 Axes>"
      ]
     },
     "metadata": {
      "needs_background": "light"
     },
     "output_type": "display_data"
    }
   ],
   "source": [
    "plt.figure()\n",
    "x_axis = \"Recency\"\n",
    "y_axis = \"MonetaryValue\"\n",
    "plt.scatter(high_value_df[x_axis], high_value_df[y_axis], c = 'g', alpha = 0.3, label = \"High Value\", zorder = 3)\n",
    "plt.scatter(mid_value_df[x_axis], mid_value_df[y_axis], c = 'r', alpha = 0.3, label = \"Mid Value\", zorder = 2)\n",
    "plt.scatter(low_value_df[x_axis], low_value_df[y_axis], c = 'b', alpha = 0.3, label = \"Low Value\", zorder = 4)\n",
    "plt.legend()\n",
    "plt.ylabel(y_axis)\n",
    "plt.xlabel(x_axis)\n",
    "plt.show()"
   ]
  },
  {
   "cell_type": "code",
   "execution_count": 47,
   "metadata": {},
   "outputs": [],
   "source": [
    "from mpl_toolkits import mplot3d"
   ]
  },
  {
   "cell_type": "code",
   "execution_count": 48,
   "metadata": {},
   "outputs": [
    {
     "data": {
      "image/png": "[encoded data removed]",
      "text/plain": [
       "<Figure size 432x288 with 1 Axes>"
      ]
     },
     "metadata": {
      "needs_background": "light"
     },
     "output_type": "display_data"
    }
   ],
   "source": [
    "ax = plt.axes(projection='3d')\n",
    "ax.scatter3D(user_df[\"MonetaryValue\"], user_df[\"Frequency\"], user_df[\"Recency\"], c= user_df[\"UserValue\"], alpha = 0.7)\n",
    "ax.set_xlabel(\"Revenue\")\n",
    "ax.set_ylabel(\"Frequency\")\n",
    "ax.set_zlabel(\"Recency\")\n",
    "\n",
    "#ax.set_xlim(0, 10000)\n",
    "#ax.set_ylim(0, 1500)\n",
    "plt.show()"
   ]
  },
  {
   "cell_type": "code",
   "execution_count": 49,
   "metadata": {},
   "outputs": [
    {
     "name": "stderr",
     "output_type": "stream",
     "text": [
      "C:\\Anaconda3\\lib\\site-packages\\pandas\\core\\indexing.py:965: SettingWithCopyWarning: \n",
      "A value is trying to be set on a copy of a slice from a DataFrame.\n",
      "Try using .loc[row_indexer,col_indexer] = value instead\n",
      "\n",
      "See the caveats in the documentation: https://pandas.pydata.org/pandas-docs/stable/user_guide/indexing.html#returning-a-view-versus-a-copy\n",
      "  self.obj[item] = s\n"
     ]
    }
   ],
   "source": [
    "pairwise_df = user_df[[\"Recency\", \"Frequency\", \"MonetaryValue\", \"UserValue\"]]\n",
    "pairwise_df.loc[pairwise_df[\"UserValue\"] == 0, \"UserValue\"] = \"Low Value\"\n",
    "pairwise_df.loc[pairwise_df[\"UserValue\"] == 1, \"UserValue\"] = \"Mid Value\"\n",
    "pairwise_df.loc[pairwise_df[\"UserValue\"] == 2, \"UserValue\"] = \"High Value\"\n"
   ]
  },
  {
   "cell_type": "code",
   "execution_count": 50,
   "metadata": {},
   "outputs": [
    {
     "data": {
      "text/plain": [
       "count     3920.000000\n",
       "mean        71.758320\n",
       "std       1543.980073\n",
       "min          2.101286\n",
       "25%         11.192679\n",
       "50%         17.284962\n",
       "75%         24.393523\n",
       "max      77183.600000\n",
       "Name: MonetaryValue, dtype: float64"
      ]
     },
     "execution_count": 50,
     "metadata": {},
     "output_type": "execute_result"
    }
   ],
   "source": [
    "user_df.MonetaryValue.describe()"
   ]
  },
  {
   "cell_type": "code",
   "execution_count": 51,
   "metadata": {},
   "outputs": [
    {
     "data": {
      "image/png": "[encoded data removed]",
      "text/plain": [
       "<Figure size 630.625x540 with 12 Axes>"
      ]
     },
     "metadata": {
      "needs_background": "light"
     },
     "output_type": "display_data"
    }
   ],
   "source": [
    "sns.pairplot(pairwise_df, hue=\"UserValue\")\n",
    "plt.show()"
   ]
  },
  {
   "cell_type": "code",
   "execution_count": 52,
   "metadata": {},
   "outputs": [],
   "source": [
    "test_df = sns.load_dataset(\"iris\")"
   ]
  },
  {
   "cell_type": "code",
   "execution_count": 53,
   "metadata": {},
   "outputs": [
    {
     "data": {
      "text/html": [
       "<div>\n",
       "<style scoped>\n",
       "    .dataframe tbody tr th:only-of-type {\n",
       "        vertical-align: middle;\n",
       "    }\n",
       "\n",
       "    .dataframe tbody tr th {\n",
       "        vertical-align: top;\n",
       "    }\n",
       "\n",
       "    .dataframe thead th {\n",
       "        text-align: right;\n",
       "    }\n",
       "</style>\n",
       "<table border=\"1\" class=\"dataframe\">\n",
       "  <thead>\n",
       "    <tr style=\"text-align: right;\">\n",
       "      <th></th>\n",
       "      <th>sepal_length</th>\n",
       "      <th>sepal_width</th>\n",
       "      <th>petal_length</th>\n",
       "      <th>petal_width</th>\n",
       "      <th>species</th>\n",
       "    </tr>\n",
       "  </thead>\n",
       "  <tbody>\n",
       "    <tr>\n",
       "      <th>0</th>\n",
       "      <td>5.1</td>\n",
       "      <td>3.5</td>\n",
       "      <td>1.4</td>\n",
       "      <td>0.2</td>\n",
       "      <td>setosa</td>\n",
       "    </tr>\n",
       "    <tr>\n",
       "      <th>1</th>\n",
       "      <td>4.9</td>\n",
       "      <td>3.0</td>\n",
       "      <td>1.4</td>\n",
       "      <td>0.2</td>\n",
       "      <td>setosa</td>\n",
       "    </tr>\n",
       "    <tr>\n",
       "      <th>2</th>\n",
       "      <td>4.7</td>\n",
       "      <td>3.2</td>\n",
       "      <td>1.3</td>\n",
       "      <td>0.2</td>\n",
       "      <td>setosa</td>\n",
       "    </tr>\n",
       "    <tr>\n",
       "      <th>3</th>\n",
       "      <td>4.6</td>\n",
       "      <td>3.1</td>\n",
       "      <td>1.5</td>\n",
       "      <td>0.2</td>\n",
       "      <td>setosa</td>\n",
       "    </tr>\n",
       "    <tr>\n",
       "      <th>4</th>\n",
       "      <td>5.0</td>\n",
       "      <td>3.6</td>\n",
       "      <td>1.4</td>\n",
       "      <td>0.2</td>\n",
       "      <td>setosa</td>\n",
       "    </tr>\n",
       "  </tbody>\n",
       "</table>\n",
       "</div>"
      ],
      "text/plain": [
       "   sepal_length  sepal_width  petal_length  petal_width species\n",
       "0           5.1          3.5           1.4          0.2  setosa\n",
       "1           4.9          3.0           1.4          0.2  setosa\n",
       "2           4.7          3.2           1.3          0.2  setosa\n",
       "3           4.6          3.1           1.5          0.2  setosa\n",
       "4           5.0          3.6           1.4          0.2  setosa"
      ]
     },
     "execution_count": 53,
     "metadata": {},
     "output_type": "execute_result"
    }
   ],
   "source": [
    "test_df.head()"
   ]
  }
 ],
 "metadata": {
  "kernelspec": {
   "display_name": "Python 3",
   "language": "python",
   "name": "python3"
  },
  "language_info": {
   "codemirror_mode": {
    "name": "ipython",
    "version": 3
   },
   "file_extension": ".py",
   "mimetype": "text/x-python",
   "name": "python",
   "nbconvert_exporter": "python",
   "pygments_lexer": "ipython3",
   "version": "3.7.6"
  }
 },
 "nbformat": 4,
 "nbformat_minor": 2
}
